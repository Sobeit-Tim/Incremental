{
 "cells": [
  {
   "cell_type": "code",
   "execution_count": 2,
   "metadata": {},
   "outputs": [],
   "source": [
    "import numpy as np\n",
    "import scipy.io as sio\n",
    "import matplotlib.pyplot as plt\n",
    "import math\n",
    "import pandas as pd\n",
    "import seaborn as sns\n",
    "from sklearn.utils import shuffle\n",
    "%matplotlib inline\n",
    "plt.style.use('default')\n",
    "line_markers = ['-.','-,','-o','-v','-^','-<','->','-1','-2','-3','-4','-s','-p','-*','-h','-H','-+','-x','-D','-d','-|','-_']\n",
    "line_markers = ['*','h','<','4','x','d','|','_']\n",
    "\n",
    "root = './'"
   ]
  },
  {
   "cell_type": "code",
   "execution_count": 2,
   "metadata": {},
   "outputs": [
    {
     "name": "stdout",
     "output_type": "stream",
     "text": [
      "[86.68       77.6        70.56       63.46       59.64       55.52666667\n",
      " 53.36571429 50.95       48.13777778 45.916      44.32       42.59333333\n",
      " 41.52615385 40.84571429 39.59733333 38.295      37.34823529 36.06888889\n",
      " 35.46315789 35.27      ]\n",
      "50.15819878032184\n",
      "[97.32       94.36       90.54666667 87.47       84.608      81.81333333\n",
      " 80.15428571 78.56       76.51111111 74.912      73.63636364 71.56\n",
      " 70.67692308 69.87428571 68.83733333 67.3325     66.33882353 64.82444444\n",
      " 64.15789474 63.662     ]\n",
      "76.35779826485003\n",
      "[86.36       78.66       70.10666667 63.62       59.584      55.41333333\n",
      " 53.48571429 50.805      48.24888889 46.644      44.60363636 42.88666667\n",
      " 41.93230769 40.48857143 39.66666667 38.655      37.34823529 35.94444444\n",
      " 35.49684211 34.974     ]\n",
      "50.24619869181386\n",
      "[97.32       94.26       90.93333333 87.25       84.552      81.78666667\n",
      " 80.15428571 78.555      76.67111111 74.856      73.64363636 71.64333333\n",
      " 70.64615385 69.84       68.592      67.2825     65.95764706 64.64222222\n",
      " 64.11578947 63.444     ]\n",
      "76.30728395616252\n"
     ]
    }
   ],
   "source": [
    "name = 'ECCV_final_Imagenet_ssil_0_memsz_5000_base_50_step_50_batch_128_epoch_100_replay_16_factor_5.mat'\n",
    "result = sio.loadmat(name)\n",
    "top_1 = result['all'][0][0][0][0]\n",
    "top_5 = result['all'][0][0][1][0]\n",
    "\n",
    "print(top_1)\n",
    "print(sum(top_1)/20)\n",
    "print(top_5)\n",
    "print(sum(top_5)/20)\n",
    "\n",
    "name = 'prev_results/RESULT_Imagenet_er_0_memsz_5000_alpha_1_beta_0.0001_base_50_replay_16_batch_128_epoch_100_factor_5_RingBuffer_CE_lr_change.mat'\n",
    "result = sio.loadmat(name)\n",
    "top_1 = result['all'][0][0][0][0]\n",
    "top_5 = result['all'][0][0][1][0]\n",
    "\n",
    "print(top_1)\n",
    "print(sum(top_1)/20)\n",
    "print(top_5)\n",
    "print(sum(top_5)/20)\n",
    "\n",
    "\n"
   ]
  },
  {
   "cell_type": "code",
   "execution_count": 3,
   "metadata": {},
   "outputs": [
    {
     "name": "stdout",
     "output_type": "stream",
     "text": [
      "[85.9        70.61       62.1        55.51       50.356      46.18333333\n",
      " 42.98857143 41.005      38.76222222 35.752     ]\n",
      "52.916712698412695\n",
      "[96.2        90.66       85.50666667 81.52       78.088      74.47333333\n",
      " 71.82571429 69.33       66.78222222 64.746     ]\n",
      "77.91319365079366\n",
      "[86 70 62 55 50 46 43 41 38 35]\n",
      "52.6\n",
      "[96 91 85 81 77 74 71 69 67 64]\n",
      "77.5\n"
     ]
    }
   ],
   "source": [
    "name = 'ECCV_final_Imagenet_ssil_0_memsz_5000_base_100_step_100_batch_128_epoch_100_replay_32_factor_5.mat'\n",
    "result = sio.loadmat(name)\n",
    "top_1 = result['all'][0][0][0][0]\n",
    "top_5 = result['all'][0][0][1][0]\n",
    "\n",
    "print(top_1)\n",
    "print(sum(top_1)/10)\n",
    "print(top_5)\n",
    "print(sum(top_5)/10)\n",
    "\n",
    "name = 'prev_results/RESULT_Imagenet_er_0_memsz_5000_alpha_1_beta_0.0001_base_100_replay_32_batch_128_epoch_100_factor_5_RingBuffer_CE_lr_change.mat'\n",
    "result = sio.loadmat(name)\n",
    "top_1 = result['all'][0][0][0][0]\n",
    "top_5 = result['all'][0][0][1][0]\n",
    "\n",
    "print(top_1)\n",
    "print(sum(top_1)/10)\n",
    "print(top_5)\n",
    "print(sum(top_5)/10)\n",
    "\n",
    "\n",
    "\n"
   ]
  },
  {
   "cell_type": "code",
   "execution_count": 4,
   "metadata": {},
   "outputs": [
    {
     "name": "stdout",
     "output_type": "stream",
     "text": [
      "[82.01       63.83       51.12666667 43.1275     36.424     ]\n",
      "55.30363333333334\n",
      "[94.68       85.51       77.98333333 70.7775     65.676     ]\n",
      "78.92536666666666\n",
      "[82.38  64.27  50.8   42.715 36.404]\n",
      "55.3138\n",
      "[94.34       85.735      77.80333333 70.8975     65.678     ]\n",
      "78.89076666666666\n"
     ]
    }
   ],
   "source": [
    "name = 'ECCV_final_Imagenet_ssil_0_memsz_5000_base_200_step_200_batch_128_epoch_100_replay_64_factor_5.mat'\n",
    "result = sio.loadmat(name)\n",
    "top_1 = result['all'][0][0][0][0]\n",
    "top_5 = result['all'][0][0][1][0]\n",
    "\n",
    "print(top_1)\n",
    "print(sum(top_1)/5)\n",
    "print(top_5)\n",
    "print(sum(top_5)/5)\n",
    "\n",
    "name = 'prev_results/RESULT_Imagenet_er_0_memsz_5000_alpha_1_beta_0.0001_base_200_replay_64_batch_128_epoch_100_factor_5_RingBuffer_CE_lr_change.mat'\n",
    "result = sio.loadmat(name)\n",
    "top_1 = result['all'][0][0][0][0]\n",
    "top_5 = result['all'][0][0][1][0]\n",
    "\n",
    "print(top_1)\n",
    "print(sum(top_1)/5)\n",
    "print(top_5)\n",
    "print(sum(top_5)/5)"
   ]
  },
  {
   "cell_type": "code",
   "execution_count": 5,
   "metadata": {},
   "outputs": [
    {
     "name": "stdout",
     "output_type": "stream",
     "text": [
      "[85.9        72.87       64.93333333 59.2        54.728      51.07\n",
      " 48.22857143 46.4075     44.08222222 41.658     ]\n",
      "56.907762698412704\n",
      "[96.2        92.06       87.18666667 83.73       81.004      77.97333333\n",
      " 75.59142857 73.77       71.66888889 69.746     ]\n",
      "80.89303174603174\n",
      "[85 72 65 59 54 51 47 46 43 41]\n",
      "56.3\n",
      "[96 91 87 84 81 77 75 73 71 69]\n",
      "80.4\n"
     ]
    }
   ],
   "source": [
    "name = 'ECCV_final_Imagenet_ssil_0_memsz_10000_base_100_step_100_batch_128_epoch_100_replay_32_factor_5.mat'\n",
    "result = sio.loadmat(name)\n",
    "top_1 = result['all'][0][0][0][0]\n",
    "top_5 = result['all'][0][0][1][0]\n",
    "\n",
    "print(top_1)\n",
    "print(sum(top_1)/10)\n",
    "print(top_5)\n",
    "print(sum(top_5)/10)\n",
    "\n",
    "name = 'prev_results/RESULT_Imagenet_er_0_memsz_10000_alpha_1_beta_0.0001_base_100_replay_32_batch_128_epoch_100_factor_5_RingBuffer_CE_lr_change.mat'\n",
    "result = sio.loadmat(name)\n",
    "top_1 = result['all'][0][0][0][0]\n",
    "top_5 = result['all'][0][0][1][0]\n",
    "\n",
    "print(top_1)\n",
    "print(sum(top_1)/10)\n",
    "print(top_5)\n",
    "print(sum(top_5)/10)"
   ]
  },
  {
   "cell_type": "code",
   "execution_count": 6,
   "metadata": {},
   "outputs": [
    {
     "name": "stdout",
     "output_type": "stream",
     "text": [
      "[85.9        73.84       66.68666667 61.9        57.716      54.52333333\n",
      " 51.94285714 49.79       48.15555556 45.614     ]\n",
      "59.60684126984127\n",
      "[96.2        92.3        88.47333333 85.96       83.472      80.82666667\n",
      " 78.88285714 77.0175     74.93111111 73.514     ]\n",
      "83.15774682539683\n",
      "[86 73 66 61 57 55 52 50 48 45]\n",
      "59.3\n",
      "[96 92 88 85 83 81 79 77 75 73]\n",
      "82.9\n"
     ]
    }
   ],
   "source": [
    "name = 'ECCV_final_Imagenet_ssil_0_memsz_20000_base_100_step_100_batch_128_epoch_100_replay_32_factor_5.mat'\n",
    "result = sio.loadmat(name)\n",
    "top_1 = result['all'][0][0][0][0]\n",
    "top_5 = result['all'][0][0][1][0]\n",
    "\n",
    "print(top_1)\n",
    "print(sum(top_1)/10)\n",
    "print(top_5)\n",
    "print(sum(top_5)/10)\n",
    "\n",
    "name = 'prev_results/RESULT_Imagenet_er_0_memsz_20000_alpha_1_beta_0.0001_base_100_replay_32_batch_128_epoch_100_factor_5_RingBuffer_CE_lr_change.mat'\n",
    "result = sio.loadmat(name)\n",
    "top_1 = result['all'][0][0][0][0]\n",
    "top_5 = result['all'][0][0][1][0]\n",
    "\n",
    "print(top_1)\n",
    "print(sum(top_1)/10)\n",
    "print(top_5)\n",
    "print(sum(top_5)/10)"
   ]
  },
  {
   "cell_type": "code",
   "execution_count": 7,
   "metadata": {},
   "outputs": [
    {
     "name": "stdout",
     "output_type": "stream",
     "text": [
      "[84.98       76.28       67.24666667 58.515      52.212      46.78\n",
      " 41.85714286 36.4475     32.95555556 29.506     ]\n",
      "[96.26       92.86       89.56       86.475      83.476      80.46333333\n",
      " 77.15714286 73.1275     69.38888889 66.112     ]\n",
      "79.846651675485\n"
     ]
    }
   ],
   "source": [
    "name = 'ECCV_rebuttal_Imagenet_bic_0_memsz_20000_alpha_1_beta_0.0001_base_100_replay_32_batch_256_epoch_100_factor_1_RingBuffer_CE.mat'\n",
    "result = sio.loadmat(name)\n",
    "top_1 = result['all'][0][0][0][0]\n",
    "top_5 = result['all'][0][0][1][0]\n",
    "\n",
    "print(top_1)\n",
    "print(top_5)\n",
    "\n",
    "print(sum(top_5[1:])/9)"
   ]
  },
  {
   "cell_type": "code",
   "execution_count": 12,
   "metadata": {},
   "outputs": [
    {
     "name": "stdout",
     "output_type": "stream",
     "text": [
      "[85.32       76.82       70.34       62.89       56.896      51.24\n",
      " 47.81714286 44.23       41.09111111 37.928     ]\n",
      "[95.78       92.97       90.33333333 87.29       84.228      80.63\n",
      " 77.84571429 74.915      71.91555556 69.244     ]\n",
      "81.04128924162256\n"
     ]
    }
   ],
   "source": [
    "name = 'ECCV_final_Imagenet_bic_0_memsz_20000_base_100_step_100_batch_256_epoch_100.mat'\n",
    "result = sio.loadmat(name)\n",
    "top_1 = result['all'][0][0][0][0]\n",
    "top_5 = result['all'][0][0][1][0]\n",
    "\n",
    "print(top_1)\n",
    "print(top_5)\n",
    "\n",
    "print(sum(top_5[1:])/9)"
   ]
  },
  {
   "cell_type": "code",
   "execution_count": 13,
   "metadata": {},
   "outputs": [
    {
     "name": "stdout",
     "output_type": "stream",
     "text": [
      "[84.72 77.96 73.08]\n",
      "[96.14       93.37       90.86666667]\n",
      "20.47074074074074\n"
     ]
    }
   ],
   "source": [
    "name = 'ECCV_final_Imagenet_bic_0_memsz_20000_base_100_step_100_batch_256_epoch_100.mat'\n",
    "result = sio.loadmat(name)\n",
    "top_1 = result['all'][0][0][0][0]\n",
    "top_5 = result['all'][0][0][1][0]\n",
    "\n",
    "print(top_1)\n",
    "print(top_5)\n",
    "\n",
    "print(sum(top_5[1:])/9)"
   ]
  }
 ],
 "metadata": {
  "kernelspec": {
   "display_name": "Python 3",
   "language": "python",
   "name": "python3"
  },
  "language_info": {
   "codemirror_mode": {
    "name": "ipython",
    "version": 3
   },
   "file_extension": ".py",
   "mimetype": "text/x-python",
   "name": "python",
   "nbconvert_exporter": "python",
   "pygments_lexer": "ipython3",
   "version": "3.7.4"
  }
 },
 "nbformat": 4,
 "nbformat_minor": 2
}
