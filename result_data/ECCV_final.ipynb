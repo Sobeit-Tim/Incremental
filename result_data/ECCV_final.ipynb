{
 "cells": [
  {
   "cell_type": "code",
   "execution_count": 1,
   "metadata": {},
   "outputs": [],
   "source": [
    "import numpy as np\n",
    "import scipy.io as sio\n",
    "import matplotlib.pyplot as plt\n",
    "import math\n",
    "import pandas as pd\n",
    "import seaborn as sns\n",
    "from sklearn.utils import shuffle\n",
    "%matplotlib inline\n",
    "plt.style.use('default')\n",
    "line_markers = ['-.','-,','-o','-v','-^','-<','->','-1','-2','-3','-4','-s','-p','-*','-h','-H','-+','-x','-D','-d','-|','-_']\n",
    "line_markers = ['*','h','<','4','x','d','|','_']\n",
    "\n",
    "root = './'"
   ]
  },
  {
   "cell_type": "code",
   "execution_count": 2,
   "metadata": {},
   "outputs": [
    {
     "name": "stdout",
     "output_type": "stream",
     "text": [
      "[86.68       77.6        70.56       63.46       59.64       55.52666667\n",
      " 53.36571429 50.95       48.13777778 45.916      44.32       42.59333333\n",
      " 41.52615385 40.84571429 39.59733333 38.295      37.34823529 36.06888889\n",
      " 35.46315789 35.27      ]\n",
      "50.15819878032184\n",
      "[97.32       94.36       90.54666667 87.47       84.608      81.81333333\n",
      " 80.15428571 78.56       76.51111111 74.912      73.63636364 71.56\n",
      " 70.67692308 69.87428571 68.83733333 67.3325     66.33882353 64.82444444\n",
      " 64.15789474 63.662     ]\n",
      "76.35779826485003\n",
      "[86.36       78.66       70.10666667 63.62       59.584      55.41333333\n",
      " 53.48571429 50.805      48.24888889 46.644      44.60363636 42.88666667\n",
      " 41.93230769 40.48857143 39.66666667 38.655      37.34823529 35.94444444\n",
      " 35.49684211 34.974     ]\n",
      "50.24619869181386\n",
      "[97.32       94.26       90.93333333 87.25       84.552      81.78666667\n",
      " 80.15428571 78.555      76.67111111 74.856      73.64363636 71.64333333\n",
      " 70.64615385 69.84       68.592      67.2825     65.95764706 64.64222222\n",
      " 64.11578947 63.444     ]\n",
      "76.30728395616252\n"
     ]
    }
   ],
   "source": [
    "name = 'ECCV_final_Imagenet_ssil_0_memsz_5000_base_50_step_50_batch_128_epoch_100_replay_16_factor_5.mat'\n",
    "result = sio.loadmat(name)\n",
    "top_1 = result['all'][0][0][0][0]\n",
    "top_5 = result['all'][0][0][1][0]\n",
    "\n",
    "print(top_1)\n",
    "print(sum(top_1)/20)\n",
    "print(top_5)\n",
    "print(sum(top_5)/20)\n",
    "\n",
    "name = 'prev_results/RESULT_Imagenet_er_0_memsz_5000_alpha_1_beta_0.0001_base_50_replay_16_batch_128_epoch_100_factor_5_RingBuffer_CE_lr_change.mat'\n",
    "result = sio.loadmat(name)\n",
    "top_1 = result['all'][0][0][0][0]\n",
    "top_5 = result['all'][0][0][1][0]\n",
    "\n",
    "print(top_1)\n",
    "print(sum(top_1)/20)\n",
    "print(top_5)\n",
    "print(sum(top_5)/20)\n",
    "\n",
    "\n"
   ]
  },
  {
   "cell_type": "code",
   "execution_count": 3,
   "metadata": {},
   "outputs": [
    {
     "name": "stdout",
     "output_type": "stream",
     "text": [
      "[85.9        70.61       62.1        55.51       50.356      46.18333333\n",
      " 42.98857143 41.005      38.76222222 35.752     ]\n",
      "52.916712698412695\n",
      "[96.2        90.66       85.50666667 81.52       78.088      74.47333333\n",
      " 71.82571429 69.33       66.78222222 64.746     ]\n",
      "77.91319365079366\n",
      "[86 70 62 55 50 46 43 41 38 35]\n",
      "52.6\n",
      "[96 91 85 81 77 74 71 69 67 64]\n",
      "77.5\n"
     ]
    }
   ],
   "source": [
    "name = 'ECCV_final_Imagenet_ssil_0_memsz_5000_base_100_step_100_batch_128_epoch_100_replay_32_factor_5.mat'\n",
    "result = sio.loadmat(name)\n",
    "top_1 = result['all'][0][0][0][0]\n",
    "top_5 = result['all'][0][0][1][0]\n",
    "\n",
    "print(top_1)\n",
    "print(sum(top_1)/10)\n",
    "print(top_5)\n",
    "print(sum(top_5)/10)\n",
    "\n",
    "name = 'prev_results/RESULT_Imagenet_er_0_memsz_5000_alpha_1_beta_0.0001_base_100_replay_32_batch_128_epoch_100_factor_5_RingBuffer_CE_lr_change.mat'\n",
    "result = sio.loadmat(name)\n",
    "top_1 = result['all'][0][0][0][0]\n",
    "top_5 = result['all'][0][0][1][0]\n",
    "\n",
    "print(top_1)\n",
    "print(sum(top_1)/10)\n",
    "print(top_5)\n",
    "print(sum(top_5)/10)\n",
    "\n",
    "\n",
    "\n"
   ]
  },
  {
   "cell_type": "code",
   "execution_count": 4,
   "metadata": {},
   "outputs": [
    {
     "name": "stdout",
     "output_type": "stream",
     "text": [
      "[82.01       63.83       51.12666667 43.1275     36.424     ]\n",
      "55.30363333333334\n",
      "[94.68       85.51       77.98333333 70.7775     65.676     ]\n",
      "78.92536666666666\n",
      "[82.38  64.27  50.8   42.715 36.404]\n",
      "55.3138\n",
      "[94.34       85.735      77.80333333 70.8975     65.678     ]\n",
      "78.89076666666666\n"
     ]
    }
   ],
   "source": [
    "name = 'ECCV_final_Imagenet_ssil_0_memsz_5000_base_200_step_200_batch_128_epoch_100_replay_64_factor_5.mat'\n",
    "result = sio.loadmat(name)\n",
    "top_1 = result['all'][0][0][0][0]\n",
    "top_5 = result['all'][0][0][1][0]\n",
    "\n",
    "print(top_1)\n",
    "print(sum(top_1)/5)\n",
    "print(top_5)\n",
    "print(sum(top_5)/5)\n",
    "\n",
    "name = 'prev_results/RESULT_Imagenet_er_0_memsz_5000_alpha_1_beta_0.0001_base_200_replay_64_batch_128_epoch_100_factor_5_RingBuffer_CE_lr_change.mat'\n",
    "result = sio.loadmat(name)\n",
    "top_1 = result['all'][0][0][0][0]\n",
    "top_5 = result['all'][0][0][1][0]\n",
    "\n",
    "print(top_1)\n",
    "print(sum(top_1)/5)\n",
    "print(top_5)\n",
    "print(sum(top_5)/5)"
   ]
  },
  {
   "cell_type": "code",
   "execution_count": 5,
   "metadata": {},
   "outputs": [
    {
     "name": "stdout",
     "output_type": "stream",
     "text": [
      "[85.9        72.87       64.93333333 59.2        54.728      51.07\n",
      " 48.22857143 46.4075     44.08222222 41.658     ]\n",
      "56.907762698412704\n",
      "[96.2        92.06       87.18666667 83.73       81.004      77.97333333\n",
      " 75.59142857 73.77       71.66888889 69.746     ]\n",
      "80.89303174603174\n",
      "[85 72 65 59 54 51 47 46 43 41]\n",
      "56.3\n",
      "[96 91 87 84 81 77 75 73 71 69]\n",
      "80.4\n"
     ]
    }
   ],
   "source": [
    "name = 'ECCV_final_Imagenet_ssil_0_memsz_10000_base_100_step_100_batch_128_epoch_100_replay_32_factor_5.mat'\n",
    "result = sio.loadmat(name)\n",
    "top_1 = result['all'][0][0][0][0]\n",
    "top_5 = result['all'][0][0][1][0]\n",
    "\n",
    "print(top_1)\n",
    "print(sum(top_1)/10)\n",
    "print(top_5)\n",
    "print(sum(top_5)/10)\n",
    "\n",
    "name = 'prev_results/RESULT_Imagenet_er_0_memsz_10000_alpha_1_beta_0.0001_base_100_replay_32_batch_128_epoch_100_factor_5_RingBuffer_CE_lr_change.mat'\n",
    "result = sio.loadmat(name)\n",
    "top_1 = result['all'][0][0][0][0]\n",
    "top_5 = result['all'][0][0][1][0]\n",
    "\n",
    "print(top_1)\n",
    "print(sum(top_1)/10)\n",
    "print(top_5)\n",
    "print(sum(top_5)/10)"
   ]
  },
  {
   "cell_type": "code",
   "execution_count": 6,
   "metadata": {},
   "outputs": [
    {
     "name": "stdout",
     "output_type": "stream",
     "text": [
      "[86.12       73.02       64.20666667 56.865      51.2        46.44666667\n",
      " 44.06571429 40.905      38.41555556 35.184     ]\n",
      "[96.7        90.99       85.75333333 82.055      78.64       75.20666667\n",
      " 73.34571429 70.4025     68.30444444 66.554     ]\n",
      "[[86.12  0.    0.    0.    0.    0.    0.    0.    0.    0.  ]\n",
      " [82.54 83.56  0.    0.    0.    0.    0.    0.    0.    0.  ]\n",
      " [81.12 78.   84.74  0.    0.    0.    0.    0.    0.    0.  ]\n",
      " [80.98 77.1  78.36 84.44  0.    0.    0.    0.    0.    0.  ]\n",
      " [79.64 76.08 76.54 78.88 84.88  0.    0.    0.    0.    0.  ]\n",
      " [79.58 75.26 75.92 77.06 78.24 85.04  0.    0.    0.    0.  ]\n",
      " [79.32 74.66 76.12 76.02 76.   80.38 86.02  0.    0.    0.  ]\n",
      " [77.98 74.34 74.82 75.24 75.56 77.28 80.74 86.32  0.    0.  ]\n",
      " [78.08 74.08 75.06 74.38 74.46 75.98 78.44 80.34 84.04  0.  ]\n",
      " [78.32 73.98 74.16 73.78 73.92 75.6  77.22 78.34 78.84 87.92]]\n",
      "[[ 3183   257  1560  4119   729   152 10000]\n",
      " [ 5450   888  3662  4181   702   117 15000]\n",
      " [ 7202  1513  6285  4171   701   128 20000]\n",
      " [ 8622  2220  9158  4178   681   141 25000]\n",
      " [ 9737  2996 12267  4197   678   125 30000]\n",
      " [11181  4256 14563  4242   615   143 35000]\n",
      " [12099  4965 17936  4263   615   122 40000]\n",
      " [13135  5477 21388  4152   722   126 45000]\n",
      " [13240  6055 25705  4352   553    95 50000]]\n"
     ]
    }
   ],
   "source": [
    "name = 'ECCV_final_Imagenet_ft_0_memsz_20000_base_100_step_100_batch_128_epoch_100_factor_4.mat'\n",
    "result = sio.loadmat(name)\n",
    "top_1 = result['all'][0][0][0][0]\n",
    "top_5 = result['all'][0][0][1][0]\n",
    "\n",
    "print(top_1)\n",
    "print(top_5)\n",
    "print(result['task_soft_1'])\n",
    "print(result['all'][0][0][2])"
   ]
  },
  {
   "cell_type": "code",
   "execution_count": 7,
   "metadata": {},
   "outputs": [
    {
     "name": "stdout",
     "output_type": "stream",
     "text": [
      "[85.9        70.61       62.1        55.51       50.356      46.18333333\n",
      " 42.98857143 41.005      38.76222222 35.752     ]\n",
      "[96.2        90.66       85.50666667 81.52       78.088      74.47333333\n",
      " 71.82571429 69.33       66.78222222 64.746     ]\n",
      "[[85.9   0.    0.    0.    0.    0.    0.    0.    0.    0.  ]\n",
      " [77.4  83.48  0.    0.    0.    0.    0.    0.    0.    0.  ]\n",
      " [74.3  73.02 84.1   0.    0.    0.    0.    0.    0.    0.  ]\n",
      " [73.2  70.42 73.72 83.52  0.    0.    0.    0.    0.    0.  ]\n",
      " [71.76 68.46 70.24 74.14 83.38  0.    0.    0.    0.    0.  ]\n",
      " [70.72 66.8  68.2  69.44 73.12 84.14  0.    0.    0.    0.  ]\n",
      " [69.26 66.72 66.62 67.72 70.14 75.08 85.74  0.    0.    0.  ]\n",
      " [68.44 65.9  66.36 66.6  68.48 69.4  76.46 85.18  0.    0.  ]\n",
      " [66.44 64.98 64.34 65.38 66.84 68.2  73.7  76.36 83.24  0.  ]\n",
      " [68.06 65.22 64.88 63.72 65.26 66.78 71.26 73.46 75.18 86.56]]\n",
      "[[ 3236   592  1172  3825   547   628 10000]\n",
      " [ 5456  2175  2369  3859   468   673 15000]\n",
      " [ 7295  4096  3609  3807   475   718 20000]\n",
      " [ 8981  6780  4239  3608   369  1023 25000]\n",
      " [10257  9697  5046  3598   327  1075 30000]\n",
      " [11357 12522  6121  3689   305  1006 35000]\n",
      " [12766 15434  6800  3636   266  1098 40000]\n",
      " [14055 19278  6667  3388   271  1341 45000]\n",
      " [14161 21404  9435  3715   231  1054 50000]]\n"
     ]
    }
   ],
   "source": [
    "name = 'ECCV_final_Imagenet_ssil_0_memsz_5000_base_100_step_100_batch_128_epoch_100_replay_32_factor_5.mat'\n",
    "result = sio.loadmat(name)\n",
    "top_1 = result['all'][0][0][0][0]\n",
    "top_5 = result['all'][0][0][1][0]\n",
    "\n",
    "print(top_1)\n",
    "print(top_5)\n",
    "print(result['task_soft_1'])\n",
    "print(result['all'][0][0][2])"
   ]
  },
  {
   "cell_type": "code",
   "execution_count": 8,
   "metadata": {},
   "outputs": [
    {
     "name": "stdout",
     "output_type": "stream",
     "text": [
      "[84.8        75.9        68.11333333 60.91       52.48       46.43\n",
      " 40.45428571 36.005      31.45555556 27.618     ]\n",
      "[95.84       92.49       88.31333333 84.14       79.444      74.39333333\n",
      " 69.08285714 63.98       58.22666667 53.234     ]\n",
      "[[84.8   0.    0.    0.    0.    0.    0.    0.    0.    0.  ]\n",
      " [83.6  83.84  0.    0.    0.    0.    0.    0.    0.    0.  ]\n",
      " [81.48 80.34 85.06  0.    0.    0.    0.    0.    0.    0.  ]\n",
      " [79.42 77.34 80.72 85.12  0.    0.    0.    0.    0.    0.  ]\n",
      " [77.86 74.42 76.88 80.28 84.92  0.    0.    0.    0.    0.  ]\n",
      " [76.4  72.2  73.36 76.48 79.42 86.16  0.    0.    0.    0.  ]\n",
      " [74.42 70.46 70.58 72.42 75.5  80.62 87.08  0.    0.    0.  ]\n",
      " [73.18 69.64 67.64 69.14 71.42 75.58 81.98 86.84  0.    0.  ]\n",
      " [71.46 67.88 65.4  66.48 67.94 72.4  77.32 82.12 84.98  0.  ]\n",
      " [70.46 65.46 62.96 63.38 64.24 69.66 73.9  77.34 80.48 87.92]]\n",
      "[[ 3786   435   779  3804   566   630 10000]\n",
      " [ 6251  1541  2208  3966   567   467 15000]\n",
      " [ 8245  2717  4038  3937   564   499 20000]\n",
      " [ 9223  4155  6622  3897   579   524 25000]\n",
      " [ 9941  6306  8753  3988   531   481 30000]\n",
      " [10084  8218 11698  4075   506   419 35000]\n",
      " [10339 10314 14347  4063   490   447 40000]\n",
      " [10165 11460 18375  3990   603   407 45000]\n",
      " [ 9735 14019 21246  4074   486   440 50000]]\n"
     ]
    }
   ],
   "source": [
    "name = 'ECCV_final_Imagenet_bic_0_memsz_5000_base_100_step_100_batch_256_epoch_100.mat'\n",
    "result = sio.loadmat(name)\n",
    "top_1 = result['all'][0][0][0][0]\n",
    "top_5 = result['all'][0][0][1][0]\n",
    "\n",
    "print(top_1)\n",
    "print(top_5)\n",
    "print(result['task_soft_1'])\n",
    "print(result['all'][0][0][2])"
   ]
  },
  {
   "cell_type": "code",
   "execution_count": 9,
   "metadata": {},
   "outputs": [
    {
     "name": "stdout",
     "output_type": "stream",
     "text": [
      "[81.04  70.63  57.27  44.71  33.072]\n",
      "[94.24       90.43       84.46333333 76.0675     64.416     ]\n",
      "[[81.04  0.    0.    0.    0.  ]\n",
      " [63.19 68.3   0.    0.    0.  ]\n",
      " [56.25 53.96 69.14  0.    0.  ]\n",
      " [51.53 45.33 51.58 69.31  0.  ]\n",
      " [46.05 40.46 43.15 49.92 67.44]]\n",
      "[[ 6910  1340  1750  7216  1311  1473 20000]\n",
      " [10044  4224  5732  7137  1298  1565 30000]\n",
      " [10286  8061 11653  7598  1186  1216 40000]\n",
      " [ 8762 10000 21238  7774  1304   922 50000]]\n"
     ]
    }
   ],
   "source": [
    "name = 'ECCV_final_Imagenet_bic_0_memsz_5000_base_200_step_200_batch_256_epoch_100.mat'\n",
    "result = sio.loadmat(name)\n",
    "top_1 = result['all'][0][0][0][0]\n",
    "top_5 = result['all'][0][0][1][0]\n",
    "\n",
    "print(top_1)\n",
    "print(top_5)\n",
    "print(result['task_soft_1'])\n",
    "print(result['all'][0][s0][2])"
   ]
  },
  {
   "cell_type": "code",
   "execution_count": 10,
   "metadata": {},
   "outputs": [
    {
     "name": "stdout",
     "output_type": "stream",
     "text": [
      "[86.12       73.02       64.20666667 56.865      51.2        46.44666667\n",
      " 44.06571429 40.905      38.41555556 35.184     ]\n",
      "[86.12       73.62       64.28       57.36       50.4        44.49333333\n",
      " 41.42857143 38.4575     35.60666667 33.134     ]\n"
     ]
    }
   ],
   "source": [
    "name = 'ECCV_final_Imagenet_ft_0_memsz_20000_base_100_step_100_batch_128_epoch_100_factor_4.mat'\n",
    "result = sio.loadmat(name)\n",
    "top_1_all = result['all'][0][0][0][0]\n",
    "top_1_prev_new = result['prev_new'][0][0][0][0]\n",
    "\n",
    "print(top_1_all)\n",
    "print(top_1_prev_new)\n",
    "# print(result['task_soft_1'])\n",
    "# print(result['all'][0][s0][2])"
   ]
  },
  {
   "cell_type": "code",
   "execution_count": 11,
   "metadata": {},
   "outputs": [
    {
     "name": "stdout",
     "output_type": "stream",
     "text": [
      "[85.9        73.84       66.68666667 61.9        57.716      54.52333333\n",
      " 51.94285714 49.79       48.15555556 45.614     ]\n",
      "[85.9        71.31       61.53333333 54.315      47.396      41.44333333\n",
      " 38.32       35.4775     32.82888889 30.53      ]\n"
     ]
    }
   ],
   "source": [
    "name = 'ECCV_final_Imagenet_ssil_0_memsz_20000_base_100_step_100_batch_128_epoch_100_replay_32_factor_5.mat'\n",
    "result = sio.loadmat(name)\n",
    "top_1_all = result['all'][0][0][0][0]\n",
    "top_1_prev_new = result['prev_new'][0][0][0][0]\n",
    "\n",
    "print(top_1_all)\n",
    "print(top_1_prev_new)\n",
    "# print(result['task_soft_1'])\n",
    "# print(result['all'][0][s0][2])"
   ]
  }
 ],
 "metadata": {
  "kernelspec": {
   "display_name": "Python 3",
   "language": "python",
   "name": "python3"
  },
  "language_info": {
   "codemirror_mode": {
    "name": "ipython",
    "version": 3
   },
   "file_extension": ".py",
   "mimetype": "text/x-python",
   "name": "python",
   "nbconvert_exporter": "python",
   "pygments_lexer": "ipython3",
   "version": "3.7.4"
  }
 },
 "nbformat": 4,
 "nbformat_minor": 2
}
