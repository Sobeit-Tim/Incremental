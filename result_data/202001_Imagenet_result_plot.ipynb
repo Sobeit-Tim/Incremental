{
 "cells": [
  {
   "cell_type": "code",
   "execution_count": null,
   "metadata": {},
   "outputs": [],
   "source": [
    "import numpy as np\n",
    "import scipy.io as sio\n",
    "import matplotlib.pyplot as plt\n",
    "from sklearn.metrics import precision_recall_curve\n",
    "from sklearn.metrics import roc_curve\n",
    "from sklearn.metrics import average_precision_score\n",
    "from sklearn.metrics import roc_auc_score\n",
    "%matplotlib inline\n",
    "\n",
    "line_markers = ['-.','-,','-o','-v','-^','-<','->','-1','-2','-3','-4','-s','-p','-*','-h','-H','-+','-x','-D','-d','-|','-_']\n",
    "line_markers = ['*','h','<','4','x','d','|','_']\n",
    "\n",
    "root = 'prev_results/'"
   ]
  },
  {
   "cell_type": "code",
   "execution_count": null,
   "metadata": {},
   "outputs": [],
   "source": [
    "def accuracy(file_name, tasknum = 10):\n",
    "    acc = np.zeros(tasknum)\n",
    "    with open(file_name, 'r') as f:\n",
    "        data = f.read().splitlines()\n",
    "        for i in range(len(data)):\n",
    "            acc[i] = data[i]\n",
    "    return acc"
   ]
  },
  {
   "cell_type": "code",
   "execution_count": null,
   "metadata": {},
   "outputs": [],
   "source": [
    "def aupr_auroc_prev_new(result, idx, save=None):\n",
    "    \n",
    "    end = 5000 + 5000*(idx+1)\n",
    "    fontsize = 15\n",
    "    \n",
    "    precision, recall, thresholds = precision_recall_curve(result['bin_target'][0][idx][0], result['bin_prob'][0][idx][0])\n",
    "    fpr, tpr, thresholds = roc_curve(result['bin_target'][0][idx][0], result['bin_prob'][0][idx][0])\n",
    "    aupr = average_precision_score(result['bin_target'][0][idx][0], result['bin_prob'][0][idx][0])\n",
    "    auroc = roc_auc_score(result['bin_target'][0][idx][0], result['bin_prob'][0][idx][0])\n",
    "\n",
    "    plt.figure(figsize = (20,5))\n",
    "\n",
    "    plt.style.use('default')\n",
    "    plt.subplot(1,4,1)\n",
    "    plt.plot(recall, precision, linestyle='-', label='bin_prob')\n",
    "    plt.grid(b=True, which='major', axis='both')\n",
    "    plt.xlabel('Recall', fontsize=fontsize)\n",
    "    plt.ylabel('Precision', fontsize=fontsize)\n",
    "    plt.title('AURP: %.3f'%aupr, fontsize=fontsize)\n",
    "\n",
    "    plt.style.use('default')\n",
    "    plt.subplot(1,4,2)\n",
    "    plt.plot(fpr, tpr, linestyle='-', label='bin_prob')\n",
    "    plt.grid(b=True, which='major', axis='both')\n",
    "    plt.xlabel('FPR', fontsize=fontsize)\n",
    "    plt.ylabel('TPR', fontsize=fontsize)\n",
    "    plt.title('AUROC: %.3f'%auroc, fontsize=fontsize)\n",
    "\n",
    "    plt.style.use('default')\n",
    "    plt.subplot(1,4,3)\n",
    "    plt.plot(np.arange(end-5000), np.sort(result['bin_prob'][0][idx][0][:end-5000]), linestyle='-')\n",
    "    plt.grid(b=True, which='major', axis='both')\n",
    "    plt.ylabel('Confidence', fontsize=fontsize)\n",
    "    plt.title('Prev class', fontsize=fontsize)\n",
    "\n",
    "    plt.style.use('default')\n",
    "    plt.subplot(1,4,4)\n",
    "    plt.plot(np.arange(5000), np.sort(result['bin_prob'][0][idx][0][end-5000:end]), linestyle='-')\n",
    "    plt.grid(b=True, which='major', axis='both')\n",
    "    plt.ylabel('Confidence', fontsize=fontsize)\n",
    "    plt.title('New class', fontsize=fontsize)\n",
    "\n",
    "\n",
    "    print(np.mean(result['bin_prob'][0][idx][0][:end-5000]))\n",
    "    print(np.mean(result['bin_prob'][0][idx][0][end-5000:end]))\n",
    "    \n",
    "    if save is not None:\n",
    "        plt.tight_layout()\n",
    "        plt.savefig('./figures/'+save+'.pdf')"
   ]
  },
  {
   "cell_type": "code",
   "execution_count": null,
   "metadata": {},
   "outputs": [],
   "source": []
  }
 ],
 "metadata": {
  "kernelspec": {
   "display_name": "Python 3",
   "language": "python",
   "name": "python3"
  },
  "language_info": {
   "codemirror_mode": {
    "name": "ipython",
    "version": 3
   },
   "file_extension": ".py",
   "mimetype": "text/x-python",
   "name": "python",
   "nbconvert_exporter": "python",
   "pygments_lexer": "ipython3",
   "version": "3.6.7"
  }
 },
 "nbformat": 4,
 "nbformat_minor": 2
}
